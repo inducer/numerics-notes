{
 "cells": [
  {
   "cell_type": "markdown",
   "id": "ec255016",
   "metadata": {},
   "source": [
    "# LU Factorization\n",
    "\n",
    "Copyright (C) 2021 Andreas Kloeckner\n",
    "\n",
    "In part based on material by Edgar Solomonik\n",
    "\n",
    "<details>\n",
    "<summary>MIT License</summary>\n",
    "Permission is hereby granted, free of charge, to any person obtaining a copy\n",
    "of this software and associated documentation files (the \"Software\"), to deal\n",
    "in the Software without restriction, including without limitation the rights\n",
    "to use, copy, modify, merge, publish, distribute, sublicense, and/or sell\n",
    "copies of the Software, and to permit persons to whom the Software is\n",
    "furnished to do so, subject to the following conditions:\n",
    "\n",
    "The above copyright notice and this permission notice shall be included in\n",
    "all copies or substantial portions of the Software.\n",
    "\n",
    "THE SOFTWARE IS PROVIDED \"AS IS\", WITHOUT WARRANTY OF ANY KIND, EXPRESS OR\n",
    "IMPLIED, INCLUDING BUT NOT LIMITED TO THE WARRANTIES OF MERCHANTABILITY,\n",
    "FITNESS FOR A PARTICULAR PURPOSE AND NONINFRINGEMENT. IN NO EVENT SHALL THE\n",
    "AUTHORS OR COPYRIGHT HOLDERS BE LIABLE FOR ANY CLAIM, DAMAGES OR OTHER\n",
    "LIABILITY, WHETHER IN AN ACTION OF CONTRACT, TORT OR OTHERWISE, ARISING FROM,\n",
    "OUT OF OR IN CONNECTION WITH THE SOFTWARE OR THE USE OR OTHER DEALINGS IN\n",
    "THE SOFTWARE.\n",
    "</details>"
   ]
  },
  {
   "cell_type": "code",
   "execution_count": 54,
   "id": "5f6fb009",
   "metadata": {},
   "outputs": [],
   "source": [
    "import numpy as np\n",
    "import numpy.linalg as la\n",
    "\n",
    "np.set_printoptions(linewidth=150, suppress=True, precision=3)"
   ]
  },
  {
   "cell_type": "code",
   "execution_count": 55,
   "id": "789c5d4a",
   "metadata": {},
   "outputs": [
    {
     "data": {
      "text/plain": [
       "array([[ 1.675, -1.63 ,  1.236, -0.329],\n",
       "       [-0.018,  0.006, -1.171, -0.222],\n",
       "       [-0.607, -0.098,  0.194, -1.705],\n",
       "       [ 0.218,  0.441, -0.713, -0.787]])"
      ]
     },
     "execution_count": 55,
     "metadata": {},
     "output_type": "execute_result"
    }
   ],
   "source": [
    "A = np.random.randn(4, 4)\n",
    "A"
   ]
  },
  {
   "cell_type": "markdown",
   "id": "f7a37299",
   "metadata": {},
   "source": [
    "Initialize `L` and `U`:"
   ]
  },
  {
   "cell_type": "code",
   "execution_count": 56,
   "id": "2ce800be",
   "metadata": {},
   "outputs": [],
   "source": [
    "L = np.eye(len(A))\n",
    "U = np.zeros_like(A)"
   ]
  },
  {
   "cell_type": "markdown",
   "id": "865be159",
   "metadata": {},
   "source": [
    "Recall the \"recipe\" for LU factorization:\n",
    "\n",
    "$$\\let\\B=\\boldsymbol \\begin{array}{cc}\n",
    "     & \\left[\\begin{array}{cc}\n",
    "       u_{00} & \\B{u}_{01}^T\\\\\n",
    "       & U_{11}\n",
    "     \\end{array}\\right]\\\\\n",
    "     \\left[\\begin{array}{cc}\n",
    "       1 & \\\\\n",
    "       \\B{l}_{10} & L_{11}\n",
    "     \\end{array}\\right] & \\left[\\begin{array}{cc}\n",
    "       a_{00} & \\B{a}_{01}\\\\\n",
    "       \\B{a}_{10} & A_{11}\n",
    "     \\end{array}\\right]\n",
    "   \\end{array}$$\n",
    "\n",
    "Find $u_{00}$ and $u_{01}$. Check `A - L@U`."
   ]
  },
  {
   "cell_type": "code",
   "execution_count": 57,
   "id": "60443f8f",
   "metadata": {},
   "outputs": [
    {
     "data": {
      "text/plain": [
       "array([[ 0.   ,  0.   ,  0.   ,  0.   ],\n",
       "       [-0.018,  0.006, -1.171, -0.222],\n",
       "       [-0.607, -0.098,  0.194, -1.705],\n",
       "       [ 0.218,  0.441, -0.713, -0.787]])"
      ]
     },
     "execution_count": 57,
     "metadata": {},
     "output_type": "execute_result"
    }
   ],
   "source": [
    "#clear\n",
    "\n",
    "U[0] = A[0]\n",
    "A - L@U"
   ]
  },
  {
   "cell_type": "markdown",
   "id": "2d57cf4d",
   "metadata": {},
   "source": [
    "Find $l_{10}$. Check `A - L@U`."
   ]
  },
  {
   "cell_type": "code",
   "execution_count": 58,
   "id": "6ac21875",
   "metadata": {},
   "outputs": [
    {
     "data": {
      "text/plain": [
       "array([[ 0.   ,  0.   ,  0.   ,  0.   ],\n",
       "       [ 0.   , -0.011, -1.158, -0.226],\n",
       "       [ 0.   , -0.689,  0.642, -1.824],\n",
       "       [ 0.   ,  0.653, -0.874, -0.745]])"
      ]
     },
     "execution_count": 58,
     "metadata": {},
     "output_type": "execute_result"
    }
   ],
   "source": [
    "#clear\n",
    "\n",
    "L[1:,0] = A[1:,0]/U[0,0]\n",
    "A - L@U"
   ]
  },
  {
   "cell_type": "markdown",
   "id": "1bc60f49",
   "metadata": {},
   "source": [
    "Recall $A_{22} =\\B{l}_{21} \\B{u}_{12}^T + L_{22} U_{22}$. Write the next step generic in terms of `i`.\n",
    "\n",
    "After the step, print `A-L@U` and `remaining`."
   ]
  },
  {
   "cell_type": "code",
   "execution_count": 59,
   "id": "4b2644d9",
   "metadata": {},
   "outputs": [],
   "source": [
    "i = 1\n",
    "remaining = A - L@U"
   ]
  },
  {
   "cell_type": "code",
   "execution_count": 62,
   "id": "a38913da",
   "metadata": {},
   "outputs": [
    {
     "name": "stdout",
     "output_type": "stream",
     "text": [
      "[[  0.      0.      0.      0.   ]\n",
      " [  0.     -0.011  -1.158  -0.226]\n",
      " [  0.     -0.689  72.62   12.212]\n",
      " [  0.      0.653 -69.135  -2.43 ]]\n",
      "[[ 0.  0.  0.  0.]\n",
      " [ 0.  0.  0.  0.]\n",
      " [ 0. -0.  0. -0.]\n",
      " [ 0.  0.  0. -0.]]\n"
     ]
    }
   ],
   "source": [
    "#clear\n",
    "U[i, i:] = remaining[i, i:]\n",
    "L[i+1:,i] = remaining[i+1:,i]/U[i,i]\n",
    "remaining[i+1:, i+1:] -= np.outer(L[i+1:,i], U[i, i+1:])\n",
    "\n",
    "i = i + 1\n",
    "\n",
    "print(remaining)\n",
    "print(A-L@U)"
   ]
  },
  {
   "cell_type": "code",
   "execution_count": null,
   "id": "9222ec6b",
   "metadata": {},
   "outputs": [],
   "source": []
  }
 ],
 "metadata": {
  "kernelspec": {
   "display_name": "Python 3",
   "language": "python",
   "name": "python3"
  },
  "language_info": {
   "codemirror_mode": {
    "name": "ipython",
    "version": 3
   },
   "file_extension": ".py",
   "mimetype": "text/x-python",
   "name": "python",
   "nbconvert_exporter": "python",
   "pygments_lexer": "ipython3",
   "version": "3.9.7"
  }
 },
 "nbformat": 4,
 "nbformat_minor": 5
}
