{
 "cells": [
  {
   "cell_type": "markdown",
   "id": "bc1d698a",
   "metadata": {},
   "source": [
    "# LU Factorization with Partial Pivoting\n",
    "\n",
    "Copyright (C) 2021 Andreas Kloeckner\n",
    "\n",
    "<details>\n",
    "<summary>MIT License</summary>\n",
    "Permission is hereby granted, free of charge, to any person obtaining a copy\n",
    "of this software and associated documentation files (the \"Software\"), to deal\n",
    "in the Software without restriction, including without limitation the rights\n",
    "to use, copy, modify, merge, publish, distribute, sublicense, and/or sell\n",
    "copies of the Software, and to permit persons to whom the Software is\n",
    "furnished to do so, subject to the following conditions:\n",
    "\n",
    "The above copyright notice and this permission notice shall be included in\n",
    "all copies or substantial portions of the Software.\n",
    "\n",
    "THE SOFTWARE IS PROVIDED \"AS IS\", WITHOUT WARRANTY OF ANY KIND, EXPRESS OR\n",
    "IMPLIED, INCLUDING BUT NOT LIMITED TO THE WARRANTIES OF MERCHANTABILITY,\n",
    "FITNESS FOR A PARTICULAR PURPOSE AND NONINFRINGEMENT. IN NO EVENT SHALL THE\n",
    "AUTHORS OR COPYRIGHT HOLDERS BE LIABLE FOR ANY CLAIM, DAMAGES OR OTHER\n",
    "LIABILITY, WHETHER IN AN ACTION OF CONTRACT, TORT OR OTHERWISE, ARISING FROM,\n",
    "OUT OF OR IN CONNECTION WITH THE SOFTWARE OR THE USE OR OTHER DEALINGS IN\n",
    "THE SOFTWARE.\n",
    "</details>"
   ]
  },
  {
   "cell_type": "code",
   "execution_count": 1,
   "id": "e3870ac7",
   "metadata": {},
   "outputs": [],
   "source": [
    "import numpy as np\n",
    "import numpy.linalg as la\n",
    "\n",
    "np.set_printoptions(linewidth=150, suppress=True, precision=3)"
   ]
  },
  {
   "cell_type": "code",
   "execution_count": 99,
   "id": "b6d88824",
   "metadata": {},
   "outputs": [
    {
     "data": {
      "text/plain": [
       "array([[ 0.   ,  0.769,  1.436, -1.441, -0.165],\n",
       "       [-0.407, -1.935, -0.037,  0.178,  0.371],\n",
       "       [ 0.271, -0.743, -1.049, -1.63 , -1.277],\n",
       "       [-0.476, -1.349,  1.129, -1.424, -1.897],\n",
       "       [-0.01 , -0.978, -1.146,  2.017,  1.023]])"
      ]
     },
     "execution_count": 99,
     "metadata": {},
     "output_type": "execute_result"
    }
   ],
   "source": [
    "n = 5\n",
    "\n",
    "np.random.seed(235)\n",
    "A = np.random.randn(n, n)\n",
    "A[0,0] = 0\n",
    "A"
   ]
  },
  {
   "cell_type": "markdown",
   "id": "ab8f98af",
   "metadata": {},
   "source": [
    "## Permutation Matrices\n",
    "This function returns a matrix that swas rows `i` and `j`:"
   ]
  },
  {
   "cell_type": "code",
   "execution_count": 100,
   "id": "038264c2",
   "metadata": {},
   "outputs": [],
   "source": [
    "def row_swap_mat(i, j):\n",
    "    P = np.eye(n)\n",
    "    P[i] = 0\n",
    "    P[j] = 0\n",
    "    P[i, j] = 1\n",
    "    P[j, i] = 1\n",
    "    return P"
   ]
  },
  {
   "cell_type": "markdown",
   "id": "b572140f",
   "metadata": {},
   "source": [
    "## Pivoted LU: Initialization\n",
    "\n",
    "We're trying to obtain $PA=LU$. Initialize:"
   ]
  },
  {
   "cell_type": "code",
   "execution_count": 101,
   "id": "700c46d5",
   "metadata": {},
   "outputs": [
    {
     "data": {
      "text/plain": [
       "array([[ 0.   ,  0.769,  1.436, -1.441, -0.165],\n",
       "       [-0.407, -1.935, -0.037,  0.178,  0.371],\n",
       "       [ 0.271, -0.743, -1.049, -1.63 , -1.277],\n",
       "       [-0.476, -1.349,  1.129, -1.424, -1.897],\n",
       "       [-0.01 , -0.978, -1.146,  2.017,  1.023]])"
      ]
     },
     "execution_count": 101,
     "metadata": {},
     "output_type": "execute_result"
    }
   ],
   "source": [
    "i = 0\n",
    "I = np.eye(n)\n",
    "P = I.copy()\n",
    "Lsub = np.zeros_like(A)\n",
    "U = np.zeros_like(A)\n",
    "remaining = A.copy()\n",
    "\n",
    "remaining"
   ]
  },
  {
   "cell_type": "markdown",
   "id": "43fe5db1",
   "metadata": {},
   "source": [
    "## First column\n",
    "\n",
    "First, find the pivot as `ipiv`:"
   ]
  },
  {
   "cell_type": "code",
   "execution_count": 102,
   "id": "bdd681ad",
   "metadata": {},
   "outputs": [
    {
     "data": {
      "text/plain": [
       "3"
      ]
     },
     "execution_count": 102,
     "metadata": {},
     "output_type": "execute_result"
    }
   ],
   "source": [
    "#clear\n",
    "ipiv = i + np.argmax(np.abs(remaining[i:, i]))\n",
    "ipiv"
   ]
  },
  {
   "cell_type": "markdown",
   "id": "3264b602",
   "metadata": {},
   "source": [
    "Swap the rows in `remaining`, record in `P`:"
   ]
  },
  {
   "cell_type": "code",
   "execution_count": 103,
   "id": "e3392a5d",
   "metadata": {},
   "outputs": [
    {
     "data": {
      "text/plain": [
       "array([[-0.476, -1.349,  1.129, -1.424, -1.897],\n",
       "       [-0.407, -1.935, -0.037,  0.178,  0.371],\n",
       "       [ 0.271, -0.743, -1.049, -1.63 , -1.277],\n",
       "       [ 0.   ,  0.769,  1.436, -1.441, -0.165],\n",
       "       [-0.01 , -0.978, -1.146,  2.017,  1.023]])"
      ]
     },
     "execution_count": 103,
     "metadata": {},
     "output_type": "execute_result"
    }
   ],
   "source": [
    "#clear\n",
    "swap_mat = row_swap_mat(i, ipiv)\n",
    "P = swap_mat @ P\n",
    "remaining = swap_mat @ remaining\n",
    "remaining"
   ]
  },
  {
   "cell_type": "markdown",
   "id": "df47c716",
   "metadata": {},
   "source": [
    "Now carry out a step of LU, as above:"
   ]
  },
  {
   "cell_type": "code",
   "execution_count": 104,
   "id": "9f304b89",
   "metadata": {},
   "outputs": [
    {
     "name": "stdout",
     "output_type": "stream",
     "text": [
      "[[ 0.     0.     0.     0.     0.   ]\n",
      " [ 0.    -0.78  -1.003  1.397  1.995]\n",
      " [ 0.    -1.513 -0.405 -2.443 -2.359]\n",
      " [ 0.     0.769  1.436 -1.441 -0.165]\n",
      " [ 0.    -0.949 -1.17   2.048  1.064]]\n"
     ]
    }
   ],
   "source": [
    "U[i, i:] = remaining[i, i:]\n",
    "Lsub[i+1:,i] = remaining[i+1:,i]/U[i,i]\n",
    "remaining[i+1:, i+1:] -= np.outer(Lsub[i+1:,i], U[i, i+1:])\n",
    "\n",
    "i = i + 1\n",
    "\n",
    "print(P@A-(Lsub+I)@U)"
   ]
  },
  {
   "cell_type": "markdown",
   "id": "0f48f3a8",
   "metadata": {},
   "source": [
    "## Subsequent columns\n",
    "\n",
    "Find the pivot and perform the swaps so that you still have a valid $PA=LU$ factorization:"
   ]
  },
  {
   "cell_type": "code",
   "execution_count": 114,
   "id": "1085cf23",
   "metadata": {},
   "outputs": [],
   "source": [
    "#clear\n",
    "ipiv = i + np.argmax(np.abs(remaining[i:, i]))\n",
    "swap_mat = row_swap_mat(i, ipiv)\n",
    "\n",
    "P = swap_mat @ P\n",
    "Lsub = swap_mat @ Lsub\n",
    "remaining = swap_mat @ remaining"
   ]
  },
  {
   "cell_type": "markdown",
   "id": "3e4f943d",
   "metadata": {},
   "source": [
    "Here are some checks to make sure you're on the right track:"
   ]
  },
  {
   "cell_type": "code",
   "execution_count": 115,
   "id": "e1a29b4d",
   "metadata": {},
   "outputs": [
    {
     "name": "stdout",
     "output_type": "stream",
     "text": [
      "Should maintain the same 'zero fringe' as the previous step:\n",
      "[[ 0.     0.     0.     0.     0.   ]\n",
      " [ 0.    -0.     0.     0.     0.   ]\n",
      " [ 0.     0.     0.    -0.     0.   ]\n",
      " [ 0.    -0.    -0.     0.     0.   ]\n",
      " [ 0.     0.     0.     0.     1.439]]\n",
      "Should be zero:\n",
      "[[0.]]\n"
     ]
    }
   ],
   "source": [
    "print(\"Should maintain the same 'zero fringe' as the previous step:\")\n",
    "print(P @ A - (Lsub+I) @ U)\n",
    "\n",
    "print(\"Should be zero:\")\n",
    "print(remaining[i:, i:] - (P @ A - (Lsub+I) @ U)[i:, i:])"
   ]
  },
  {
   "cell_type": "markdown",
   "id": "a3740eb8",
   "metadata": {},
   "source": [
    "Carry out a step of LU, as always:"
   ]
  },
  {
   "cell_type": "code",
   "execution_count": 116,
   "id": "b82d2655",
   "metadata": {},
   "outputs": [
    {
     "name": "stdout",
     "output_type": "stream",
     "text": [
      "[[ 0.  0.  0.  0.  0.]\n",
      " [ 0. -0.  0.  0.  0.]\n",
      " [ 0.  0.  0. -0.  0.]\n",
      " [ 0. -0. -0.  0.  0.]\n",
      " [ 0.  0.  0.  0.  0.]]\n"
     ]
    }
   ],
   "source": [
    "U[i, i:] = remaining[i, i:]\n",
    "Lsub[i+1:,i] = remaining[i+1:,i]/U[i,i]\n",
    "remaining[i+1:, i+1:] -= np.outer(Lsub[i+1:,i], U[i, i+1:])\n",
    "\n",
    "i = i + 1\n",
    "\n",
    "print(P@A-(Lsub+I)@U)"
   ]
  },
  {
   "cell_type": "markdown",
   "id": "b46b2fec",
   "metadata": {},
   "source": [
    "## Inspect the result"
   ]
  },
  {
   "cell_type": "code",
   "execution_count": 117,
   "id": "a2e7f787",
   "metadata": {},
   "outputs": [
    {
     "data": {
      "text/plain": [
       "array([[0., 0., 0., 1., 0.],\n",
       "       [0., 0., 1., 0., 0.],\n",
       "       [1., 0., 0., 0., 0.],\n",
       "       [0., 0., 0., 0., 1.],\n",
       "       [0., 1., 0., 0., 0.]])"
      ]
     },
     "execution_count": 117,
     "metadata": {},
     "output_type": "execute_result"
    }
   ],
   "source": [
    "P"
   ]
  },
  {
   "cell_type": "code",
   "execution_count": 118,
   "id": "c80c48c2",
   "metadata": {},
   "outputs": [
    {
     "data": {
      "text/plain": [
       "array([[ 1.   ,  0.   ,  0.   ,  0.   ,  0.   ],\n",
       "       [-0.571,  1.   ,  0.   ,  0.   ,  0.   ],\n",
       "       [ 0.   , -0.508,  1.   ,  0.   ,  0.   ],\n",
       "       [ 0.021,  0.627, -0.745,  1.   ,  0.   ],\n",
       "       [ 0.856,  0.515, -0.646,  0.583,  1.   ]])"
      ]
     },
     "execution_count": 118,
     "metadata": {},
     "output_type": "execute_result"
    }
   ],
   "source": [
    "I+Lsub"
   ]
  },
  {
   "cell_type": "code",
   "execution_count": 119,
   "id": "83124465",
   "metadata": {},
   "outputs": [
    {
     "data": {
      "text/plain": [
       "array([[-0.476, -1.349,  1.129, -1.424, -1.897],\n",
       "       [ 0.   , -1.513, -0.405, -2.443, -2.359],\n",
       "       [ 0.   ,  0.   ,  1.23 , -2.682, -1.363],\n",
       "       [ 0.   ,  0.   ,  0.   ,  1.583,  1.529],\n",
       "       [ 0.   ,  0.   ,  0.   ,  0.   ,  1.439]])"
      ]
     },
     "execution_count": 119,
     "metadata": {},
     "output_type": "execute_result"
    }
   ],
   "source": [
    "U"
   ]
  },
  {
   "cell_type": "markdown",
   "id": "3170908d",
   "metadata": {},
   "source": [
    "## Questions\n",
    "\n",
    "- Why do we switch to maintaining `Lsub` instead of all of `L`?"
   ]
  },
  {
   "cell_type": "code",
   "execution_count": null,
   "id": "fb14cb4f",
   "metadata": {},
   "outputs": [],
   "source": []
  }
 ],
 "metadata": {
  "kernelspec": {
   "display_name": "Python 3",
   "language": "python",
   "name": "python3"
  },
  "language_info": {
   "codemirror_mode": {
    "name": "ipython",
    "version": 3
   },
   "file_extension": ".py",
   "mimetype": "text/x-python",
   "name": "python",
   "nbconvert_exporter": "python",
   "pygments_lexer": "ipython3",
   "version": "3.9.7"
  }
 },
 "nbformat": 4,
 "nbformat_minor": 5
}
