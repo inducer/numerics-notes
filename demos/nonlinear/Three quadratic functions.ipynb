{
 "cells": [
  {
   "cell_type": "markdown",
   "metadata": {},
   "source": [
    "# Three Quadratic Functions\n",
    "\n",
    "Copyright (C) 2020 Andreas Kloeckner, 2021 Thomas Golecki\n",
    "\n",
    "<details>\n",
    "<summary>MIT License</summary>\n",
    "Permission is hereby granted, free of charge, to any person obtaining a copy\n",
    "of this software and associated documentation files (the \"Software\"), to deal\n",
    "in the Software without restriction, including without limitation the rights\n",
    "to use, copy, modify, merge, publish, distribute, sublicense, and/or sell\n",
    "copies of the Software, and to permit persons to whom the Software is\n",
    "furnished to do so, subject to the following conditions:\n",
    "\n",
    "The above copyright notice and this permission notice shall be included in\n",
    "all copies or substantial portions of the Software.\n",
    "\n",
    "THE SOFTWARE IS PROVIDED \"AS IS\", WITHOUT WARRANTY OF ANY KIND, EXPRESS OR\n",
    "IMPLIED, INCLUDING BUT NOT LIMITED TO THE WARRANTIES OF MERCHANTABILITY,\n",
    "FITNESS FOR A PARTICULAR PURPOSE AND NONINFRINGEMENT. IN NO EVENT SHALL THE\n",
    "AUTHORS OR COPYRIGHT HOLDERS BE LIABLE FOR ANY CLAIM, DAMAGES OR OTHER\n",
    "LIABILITY, WHETHER IN AN ACTION OF CONTRACT, TORT OR OTHERWISE, ARISING FROM,\n",
    "OUT OF OR IN CONNECTION WITH THE SOFTWARE OR THE USE OR OTHER DEALINGS IN\n",
    "THE SOFTWARE.\n",
    "</details>"
   ]
  },
  {
   "cell_type": "markdown",
   "metadata": {},
   "source": [
    "Requirements to run this:\n",
    "\n",
    "```\n",
    "pip install ipywidgets pyvista[jupyter] trame\n",
    "```\n",
    "(will need Jupyter server restart and browser hard-reload)\n",
    "\n",
    "*Note:* This will not work in the web-based JupyterLab, because software."
   ]
  },
  {
   "cell_type": "code",
   "execution_count": 1,
   "metadata": {
    "collapsed": false,
    "jupyter": {
     "outputs_hidden": false
    }
   },
   "outputs": [],
   "source": [
    "import numpy as np\n",
    "import pyvista as pv\n",
    "pv.set_jupyter_backend('trame')"
   ]
  },
  {
   "cell_type": "markdown",
   "metadata": {},
   "source": [
    "Consider the three equations:\n",
    "\n",
    "$$y=x^2+\\delta$$\n",
    "$$z=x^2-\\delta$$\n",
    "$$y=z^2+\\delta$$"
   ]
  },
  {
   "cell_type": "code",
   "execution_count": 2,
   "metadata": {
    "collapsed": false,
    "jupyter": {
     "outputs_hidden": false
    }
   },
   "outputs": [],
   "source": [
    "delta = 0.5"
   ]
  },
  {
   "cell_type": "code",
   "execution_count": 3,
   "metadata": {
    "collapsed": false,
    "jupyter": {
     "outputs_hidden": false
    }
   },
   "outputs": [
    {
     "data": {
      "application/vnd.jupyter.widget-view+json": {
       "model_id": "e2fb69cd552448f5a075f7bd3a25cc9e",
       "version_major": 2,
       "version_minor": 0
      },
      "text/plain": [
       "Widget(value='<iframe src=\"http://localhost:37431/index.html?ui=P_0x7fc2a85ce270_0&reconnect=auto\" class=\"pyvi…"
      ]
     },
     "metadata": {},
     "output_type": "display_data"
    }
   ],
   "source": [
    "pl = pv.Plotter()\n",
    "\n",
    "res = 30\n",
    "\n",
    "x, z = np.mgrid[-3:3:res*1j,-3:3:res*1j]\n",
    "y = x**2 + delta\n",
    "\n",
    "pl.add_mesh(pv.StructuredGrid(x, y, z))\n",
    "\n",
    "if 1:\n",
    "    y, x = np.mgrid[-3:3:res*1j,-3:3:res*1j]\n",
    "    z = x**2 - delta\n",
    "    \n",
    "    pl.add_mesh(pv.StructuredGrid(x, y, z))\n",
    "\n",
    "if 1:\n",
    "    x, z = np.mgrid[-3:3:res*1j,-3:3:res*1j]\n",
    "    y = z**2 + delta\n",
    "    \n",
    "    pl.add_mesh(pv.StructuredGrid(x, y, z))\n",
    "\n",
    "pl.show()"
   ]
  },
  {
   "cell_type": "markdown",
   "metadata": {},
   "source": [
    "### Fallback: Paraview"
   ]
  },
  {
   "cell_type": "code",
   "execution_count": 10,
   "metadata": {},
   "outputs": [],
   "source": [
    "!rm -f 1.vts 2.vts 3.vts"
   ]
  },
  {
   "cell_type": "code",
   "execution_count": 11,
   "metadata": {},
   "outputs": [
    {
     "name": "stderr",
     "output_type": "stream",
     "text": [
      "ninja: error: rebuilding 'build.ninja': subcommand failed\n"
     ]
    }
   ],
   "source": [
    "from pyvisfile.vtk import write_structured_grid\n",
    "\n",
    "res = 50\n",
    "\n",
    "x, z = np.mgrid[-3:3:res*1j,-3:3:res*1j]\n",
    "y = x**2 + delta\n",
    "mesh = np.array([x, y, z])\n",
    "\n",
    "write_structured_grid(\"1.vts\", mesh.reshape(3, res, 1, res))\n",
    "\n",
    "# ----------------------------------\n",
    "\n",
    "y, x = np.mgrid[-3:3:res*1j,-3:3:res*1j]\n",
    "z = x**2 - delta\n",
    "mesh = np.array([x, y, z])\n",
    "\n",
    "write_structured_grid(\"2.vts\", mesh.reshape(3, res, res, 1))\n",
    "\n",
    "# ----------------------------------\n",
    "\n",
    "x, z = np.mgrid[-3:3:res*1j,-3:3:res*1j]\n",
    "y = z**2 + delta\n",
    "mesh = np.array([x, y, z])\n",
    "\n",
    "write_structured_grid(\"3.vts\", mesh.reshape(3, res, 1, res))"
   ]
  },
  {
   "cell_type": "code",
   "execution_count": null,
   "metadata": {},
   "outputs": [],
   "source": []
  }
 ],
 "metadata": {
  "kernelspec": {
   "display_name": "Python 3 (ipykernel)",
   "language": "python",
   "name": "python3"
  },
  "language_info": {
   "codemirror_mode": {
    "name": "ipython",
    "version": 3
   },
   "file_extension": ".py",
   "mimetype": "text/x-python",
   "name": "python",
   "nbconvert_exporter": "python",
   "pygments_lexer": "ipython3",
   "version": "3.13.7"
  }
 },
 "nbformat": 4,
 "nbformat_minor": 4
}
